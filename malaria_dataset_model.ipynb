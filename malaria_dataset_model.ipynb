{
  "nbformat": 4,
  "nbformat_minor": 0,
  "metadata": {
    "colab": {
      "name": "malaria_dataset_model.ipynb",
      "version": "0.3.2",
      "provenance": [],
      "collapsed_sections": [],
      "include_colab_link": true
    },
    "kernelspec": {
      "name": "python3",
      "display_name": "Python 3"
    }
  },
  "cells": [
    {
      "cell_type": "markdown",
      "metadata": {
        "id": "view-in-github",
        "colab_type": "text"
      },
      "source": [
        "<a href=\"https://colab.research.google.com/github/datawiz1984/pyhton_note_books/blob/master/malaria_dataset_model.ipynb\" target=\"_parent\"><img src=\"https://colab.research.google.com/assets/colab-badge.svg\" alt=\"Open In Colab\"/></a>"
      ]
    },
    {
      "cell_type": "code",
      "metadata": {
        "id": "OZx8BOn4Hbpr",
        "colab_type": "code",
        "colab": {}
      },
      "source": [
        "#Download data from the website of US national library of medicine\n",
        "import os\n",
        "import zipfile\n",
        "from six.moves import urllib\n",
        "\n",
        "DOWNLOAD_ROOT = \"https://ceb.nlm.nih.gov/proj/malaria/\"\n",
        "DOWNLOAD_PATH = \"datasets/malaria\"\n",
        "MALARIA_URL = DOWNLOAD_ROOT + \"cell_images.zip\"\n",
        "\n",
        "def fetch_housing_data(malaria_url=MALARIA_URL, malaria_path=DOWNLOAD_PATH):\n",
        "  if not os.path.isdir(malaria_path):\n",
        "    os.makedirs(malaria_path)\n",
        "  zip_path = os.path.join(malaria_path, \"cell_images.zip\")\n",
        "  print('Retreiving File....')\n",
        "  urllib.request.urlretrieve(malaria_url, zip_path)\n",
        "  print('Unzipping file....')\n",
        "  malaria_zip = zipfile.ZipFile(malaria_path)\n",
        "  malaria_zip.extractall(\".\")\n",
        "  malaria_zip.close()\n",
        "  print('Done!!!')"
      ],
      "execution_count": 0,
      "outputs": []
    },
    {
      "cell_type": "code",
      "metadata": {
        "id": "WVg7ke7ZMBSr",
        "colab_type": "code",
        "colab": {
          "base_uri": "https://localhost:8080/",
          "height": 68
        },
        "outputId": "7a3bfc50-ae3b-4de5-a43c-db089f96744a"
      },
      "source": [
        "fetch_housing_data()"
      ],
      "execution_count": 19,
      "outputs": [
        {
          "output_type": "stream",
          "text": [
            "Retreiving File....\n",
            "Unzipping file....\n",
            "Done!!!\n"
          ],
          "name": "stdout"
        }
      ]
    }
  ]
}